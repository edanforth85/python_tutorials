{
  "cells": [
    {
      "cell_type": "markdown",
      "metadata": {
        "id": "view-in-github",
        "colab_type": "text"
      },
      "source": [
        "<a href=\"https://colab.research.google.com/github/edanforth85/python_tutorials/blob/main/Python_in_50_Lines_of_Code.ipynb\" target=\"_parent\"><img src=\"https://colab.research.google.com/assets/colab-badge.svg\" alt=\"Open In Colab\"/></a>"
      ]
    },
    {
      "cell_type": "markdown",
      "metadata": {
        "id": "5YPiPrV9tmlE"
      },
      "source": [
        "# Python in 50 Lines of Code 🐍👩🏾‍💻"
      ]
    },
    {
      "cell_type": "code",
      "execution_count": null,
      "metadata": {
        "id": "E2DS-m4ztmlH"
      },
      "outputs": [],
      "source": [
        "#Click in this cell and click Run to the left\n",
        "print(\"You did it!\") #Watch the magic happen"
      ]
    },
    {
      "cell_type": "markdown",
      "metadata": {
        "id": "Aj8waakktmlJ"
      },
      "source": [
        "### Welcome to python!"
      ]
    },
    {
      "cell_type": "code",
      "execution_count": null,
      "metadata": {
        "id": "yBTBt_xJtmlJ"
      },
      "outputs": [],
      "source": [
        "#This is a comment - it won't execute at runtime (i.e. when the magic happens)\n",
        "1 + 2 #You can also put them after your code (note the use of math operators)"
      ]
    },
    {
      "cell_type": "code",
      "execution_count": null,
      "metadata": {
        "id": "F7G8RS31tmlJ"
      },
      "outputs": [],
      "source": [
        "#For an example of whitespace see below - this also won't execute at runtime\n",
        "\n",
        "#Yep, that was whitespace. "
      ]
    },
    {
      "cell_type": "markdown",
      "metadata": {
        "id": "veEBI4DjtmlK"
      },
      "source": [
        "### Print Statement"
      ]
    },
    {
      "cell_type": "code",
      "execution_count": null,
      "metadata": {
        "id": "MBZBtk5-tmlK"
      },
      "outputs": [],
      "source": [
        "#Compare the output of this cell with the last output\n",
        "8 - 2\n",
        "3 * 9"
      ]
    },
    {
      "cell_type": "code",
      "execution_count": null,
      "metadata": {
        "id": "jkcmeU2atmlL"
      },
      "outputs": [],
      "source": [
        "#Both lines were executed, but only the last result is returned to the terminal\n",
        "print(\"The meaning of life:\") #Use a print statement when you want to return items\n",
        "print(7 * 6) #It works with multiple lines"
      ]
    },
    {
      "cell_type": "markdown",
      "metadata": {
        "id": "_MYMe75DtmlL"
      },
      "source": [
        "### Variables"
      ]
    },
    {
      "cell_type": "code",
      "execution_count": null,
      "metadata": {
        "id": "zMmNca8ltmlM"
      },
      "outputs": [],
      "source": [
        "a = 1 #variables store all types of data for retrieval\n",
        "\n",
        "#There won't be any output here (this time execute with Shift + Enter)"
      ]
    },
    {
      "cell_type": "code",
      "execution_count": null,
      "metadata": {
        "id": "CbkGhVjHtmlM"
      },
      "outputs": [],
      "source": [
        "print(a) #You can use them later"
      ]
    },
    {
      "cell_type": "code",
      "execution_count": null,
      "metadata": {
        "id": "QZwEukuatmlN"
      },
      "outputs": [],
      "source": [
        "a = a + 1 #Modify them\n",
        "print(a) "
      ]
    },
    {
      "cell_type": "code",
      "execution_count": null,
      "metadata": {
        "id": "Qc4UcwMdtmlN"
      },
      "outputs": [],
      "source": [
        "b = 3\n",
        "print(a * b) #And even use them with other variables"
      ]
    },
    {
      "cell_type": "markdown",
      "metadata": {
        "id": "vVuqpSqltmlN"
      },
      "source": [
        "### Object Types"
      ]
    },
    {
      "cell_type": "code",
      "execution_count": null,
      "metadata": {
        "id": "sLeANU16tmlO"
      },
      "outputs": [],
      "source": [
        "print(type(a)) #Variables are objects like everything in python and they have types (note the nested functions) "
      ]
    },
    {
      "cell_type": "code",
      "execution_count": null,
      "metadata": {
        "id": "22oZ3vJStmlO"
      },
      "outputs": [],
      "source": [
        "print(type(str(a))) #Some types can be converted to others"
      ]
    },
    {
      "cell_type": "code",
      "execution_count": null,
      "metadata": {
        "id": "GYRrb7-ztmlO"
      },
      "outputs": [],
      "source": [
        "c, d = 4, 10 #You can create variables through multiple assignment\n",
        "result = c < d #In addition to math operators you have comparison operators\n",
        "print(result) #And boolean logic (true or false)"
      ]
    },
    {
      "cell_type": "markdown",
      "metadata": {
        "id": "jdhtsFOXtmlO"
      },
      "source": [
        "### Strings"
      ]
    },
    {
      "cell_type": "code",
      "execution_count": null,
      "metadata": {
        "id": "h134lDVItmlO"
      },
      "outputs": [],
      "source": [
        "print(\"Variable a equals \" + str(a) + \" and b equals \" + str(b)) #plus sign as string concatenation\n",
        "print(\"Adding a + b...\") #plus sign as text inside quotation marks\n",
        "print(f\"Result equals {str(a + b)}\") #f strings - a better way to format (plus sign as math operator)"
      ]
    },
    {
      "cell_type": "markdown",
      "metadata": {
        "id": "ZTl_JMkmtmlP"
      },
      "source": [
        "### User Input"
      ]
    },
    {
      "cell_type": "code",
      "execution_count": null,
      "metadata": {
        "id": "WSGmtOjttmlP"
      },
      "outputs": [],
      "source": [
        "your_first_name = input() #Type into the box that pops up"
      ]
    },
    {
      "cell_type": "code",
      "execution_count": null,
      "metadata": {
        "id": "9QJkxk2qtmlP"
      },
      "outputs": [],
      "source": [
        "print(f\"Your first initial is {your_first_name[0]}\") #Slicing the string by retrieving the first (zero indexed) item"
      ]
    },
    {
      "cell_type": "code",
      "execution_count": null,
      "metadata": {
        "id": "DyTewNpPtmlP"
      },
      "outputs": [],
      "source": [
        "print(f\"There are {len(your_first_name)} letters in your name\")"
      ]
    },
    {
      "cell_type": "markdown",
      "metadata": {
        "id": "BpzL3o_jtmlQ"
      },
      "source": [
        "### Functions"
      ]
    },
    {
      "cell_type": "code",
      "execution_count": null,
      "metadata": {
        "id": "KJQAEPx2tmlQ"
      },
      "outputs": [],
      "source": [
        "def simplefunction(x, y): #functions store specific actions (passing in arguments is optional)\n",
        "    return x - y #indent code to run inside the function"
      ]
    },
    {
      "cell_type": "code",
      "execution_count": null,
      "metadata": {
        "id": "9uXqDTFatmlQ"
      },
      "outputs": [],
      "source": [
        "print(simplefunction(d, b)) #call the function"
      ]
    },
    {
      "cell_type": "markdown",
      "metadata": {
        "id": "ahm5s0WFtmlQ"
      },
      "source": [
        "### Loops"
      ]
    },
    {
      "cell_type": "code",
      "execution_count": null,
      "metadata": {
        "id": "_zFQqBPutmlQ"
      },
      "outputs": [],
      "source": [
        "counter = 0 #You should always start at zero in python\n",
        "\n",
        "while counter < 3: #This is a while loop\n",
        "    print(counter) #Remember what indented code means\n",
        "    if counter == 2: #If statement (flow control)\n",
        "        print(\"Woohoo!\") #Celebrate good times come on\n",
        "    counter += 1 #augmented assignment(instead of counter = counter + 1)"
      ]
    },
    {
      "cell_type": "code",
      "execution_count": null,
      "metadata": {
        "id": "w1kZ5CvbtmlQ"
      },
      "outputs": [],
      "source": [
        "food_list = ['apples', 'bananas', 'oranges'] #Lists store items\n",
        "food_list.remove('oranges') #You can remove items\n",
        "food_list.append('grapefruit') #And add others\n",
        "\n",
        "for i in range(3): #This is a for loop (with the range object we don't need a counter variable)\n",
        "    print(f\"I like to eat {food_list[i]}\") #list indexing"
      ]
    },
    {
      "cell_type": "markdown",
      "metadata": {
        "id": "vzgDnQFdtmlR"
      },
      "source": [
        "### Modules"
      ]
    },
    {
      "cell_type": "code",
      "execution_count": null,
      "metadata": {
        "id": "N4FUs9VhtmlR"
      },
      "outputs": [],
      "source": [
        "#modules package up classes that exist in other python files to import as needed\n",
        "#you'll usually see them imported at the very top of your .py file or notebook\n",
        "\n",
        "import random #this is one of the modules in the Python Standard Library (you always have it installed)\n",
        "\n",
        "for i in range(5):\n",
        "    print(random.randint(1, 10))"
      ]
    },
    {
      "cell_type": "markdown",
      "metadata": {
        "id": "Rkb1ND1CtmlR"
      },
      "source": [
        "### Putting it all together!"
      ]
    },
    {
      "cell_type": "code",
      "execution_count": null,
      "metadata": {
        "id": "lF0q2ESHtmlR"
      },
      "outputs": [],
      "source": [
        "menu_dict = {1:'cheezburger', 2:'fries', 3:'coke', 4:'ice cream'} #Dictionaries store key/value pairs\n",
        "items = input(\"Enter numbers from 1-4 separated by a space \")"
      ]
    },
    {
      "cell_type": "code",
      "execution_count": null,
      "metadata": {
        "id": "_903Rlw3tmlR"
      },
      "outputs": [],
      "source": [
        "my_order = items.split() #Creates a list from the string of numbers (stored as text)\n",
        "my_order #See?"
      ]
    },
    {
      "cell_type": "code",
      "execution_count": null,
      "metadata": {
        "id": "UOBGTtADtmlR"
      },
      "outputs": [],
      "source": [
        "my_order.append(str(random.randint(1, 4))) #you just remembered to add a random item for your cat\n",
        "my_order #Here it is again"
      ]
    },
    {
      "cell_type": "code",
      "execution_count": null,
      "metadata": {
        "id": "sOvCR7D3tmlS"
      },
      "outputs": [],
      "source": [
        "def ordering(order):\n",
        "    for snack in order:\n",
        "        print(f\"I can haz {menu_dict[int(snack)]}?\")"
      ]
    },
    {
      "cell_type": "code",
      "execution_count": null,
      "metadata": {
        "id": "Pf07CEVjtmlS"
      },
      "outputs": [],
      "source": [
        "ordering(my_order)"
      ]
    },
    {
      "cell_type": "markdown",
      "metadata": {
        "id": "VUvRAcJFtmlS"
      },
      "source": [
        "# Extra Credit"
      ]
    },
    {
      "cell_type": "markdown",
      "metadata": {
        "id": "uoJqjoXZtmlS"
      },
      "source": [
        "### Lambda functions"
      ]
    },
    {
      "cell_type": "code",
      "execution_count": null,
      "metadata": {
        "id": "-d-SAp9XtmlS"
      },
      "outputs": [],
      "source": [
        "#Temperature conversions\n",
        "dublin_c = 15\n",
        "miami_f = 90\n",
        "\n",
        "def c_to_f_function(x): #here's the traditional way to define a function again\n",
        "    return int(round((9 * x) / 5 + 32))\n",
        "\n",
        "c_to_f = lambda x: int(round((9 * x) / 5 + 32)) #here's the exact same thing as a lambda function\n",
        "f_to_c = lambda x: int(round((x - 32) * 5 / 9))\n",
        "\n",
        "print(f\"Dublin is {dublin_c}° celsius, which is {c_to_f(dublin_c)}° fahrenheit\")\n",
        "print(f\"Miami is {miami_f}° fahrenheit, which is {f_to_c(miami_f)}° celsius\")"
      ]
    },
    {
      "cell_type": "markdown",
      "metadata": {
        "id": "oBo1gkmHtmlT"
      },
      "source": [
        "### Classes"
      ]
    },
    {
      "cell_type": "code",
      "execution_count": null,
      "metadata": {
        "id": "tsEQqiI0tmlT"
      },
      "outputs": [],
      "source": [
        "class Math: #Classes collect groups of functions\n",
        "    \n",
        "    add = lambda x, y: x + y\n",
        "    subtract = lambda x, y: x - y\n",
        "    multiply = lambda x, y: x * y\n",
        "    divide = lambda x, y: x / y\n",
        "    floor_division = lambda x, y: x // y\n",
        "    remainder = lambda x, y: x % y\n",
        "    exponent = lambda x, y: x ** y"
      ]
    },
    {
      "cell_type": "code",
      "execution_count": null,
      "metadata": {
        "id": "gobjXbgatmlT"
      },
      "outputs": [],
      "source": [
        "e, f = 5, 2\n",
        "print(f\"{e} divided by {f} is {Math.floor_division(e, f)} remainder {Math.remainder(e, f)}\")"
      ]
    },
    {
      "cell_type": "markdown",
      "metadata": {
        "id": "nz8tZHq7tmlT"
      },
      "source": [
        "### Regex"
      ]
    },
    {
      "cell_type": "code",
      "execution_count": null,
      "metadata": {
        "id": "Rixct6IltmlT"
      },
      "outputs": [],
      "source": [
        "import re #another from the standard library - Regular Expressions help you match patterns\n",
        "\n",
        "re.sub('ironic', 'coincidental', \"And isn't it ironic? Don't you think? A little too ironic...\")"
      ]
    },
    {
      "cell_type": "code",
      "execution_count": null,
      "metadata": {
        "id": "HEX4r5PItmlT"
      },
      "outputs": [],
      "source": [
        "#and the patterns can get as complicated as you need them to...\n",
        "for test_string in ['555-1212', 'ILL-EGAL']:\n",
        "    if re.match(r'^\\d{3}-\\d{4}$', test_string):\n",
        "        print (test_string, 'is a valid US local phone number')\n",
        "    else:\n",
        "        print (test_string, 'rejected')"
      ]
    },
    {
      "cell_type": "markdown",
      "metadata": {
        "id": "3c8_hS06tmlU"
      },
      "source": [
        "### Local and global scope"
      ]
    },
    {
      "cell_type": "code",
      "execution_count": null,
      "metadata": {
        "id": "flZnt1TrtmlU"
      },
      "outputs": [],
      "source": [
        "g = 11\n",
        "\n",
        "def show_local_g():\n",
        "    g = 3\n",
        "    print(g)"
      ]
    },
    {
      "cell_type": "code",
      "execution_count": null,
      "metadata": {
        "id": "yKyE0eNntmlU"
      },
      "outputs": [],
      "source": [
        "show_local_g()"
      ]
    },
    {
      "cell_type": "code",
      "execution_count": null,
      "metadata": {
        "id": "1Ok1PtCytmlU"
      },
      "outputs": [],
      "source": [
        "print(g)"
      ]
    },
    {
      "cell_type": "code",
      "execution_count": null,
      "metadata": {
        "id": "9aPq1nEWtmlU"
      },
      "outputs": [],
      "source": [
        "def modify_global_g():\n",
        "    global g\n",
        "    g = 50\n",
        "    print(g)"
      ]
    },
    {
      "cell_type": "code",
      "execution_count": null,
      "metadata": {
        "id": "36WYJIfbtmlU"
      },
      "outputs": [],
      "source": [
        "modify_global_g()"
      ]
    },
    {
      "cell_type": "code",
      "execution_count": null,
      "metadata": {
        "id": "DgPiBRvjtmlU"
      },
      "outputs": [],
      "source": [
        "print(g)"
      ]
    },
    {
      "cell_type": "markdown",
      "metadata": {
        "id": "qo9kg8sbtmlU"
      },
      "source": [
        "### Exception handling"
      ]
    },
    {
      "cell_type": "code",
      "execution_count": null,
      "metadata": {
        "id": "iRNlMOLItmlV"
      },
      "outputs": [],
      "source": [
        "def better_divide(x, y):\n",
        "    try:\n",
        "        print(x / y)\n",
        "    except ZeroDivisionError as e:\n",
        "        print(f\"Error: Invalid argument: {e}\")"
      ]
    },
    {
      "cell_type": "code",
      "execution_count": null,
      "metadata": {
        "id": "RYnDLTOatmlV"
      },
      "outputs": [],
      "source": [
        "better_divide(27,9)"
      ]
    },
    {
      "cell_type": "code",
      "execution_count": null,
      "metadata": {
        "id": "_nnVGHa0tmlV"
      },
      "outputs": [],
      "source": [
        "better_divide(10,0)"
      ]
    },
    {
      "cell_type": "markdown",
      "metadata": {
        "id": "JFI9cBYvtmlV"
      },
      "source": [
        "### Comprehensions and Generators"
      ]
    },
    {
      "cell_type": "code",
      "execution_count": null,
      "metadata": {
        "id": "_5ym7BLWtmlV"
      },
      "outputs": [],
      "source": [
        "n = 10\n",
        "n_squares = [(i + 1) ** 2 for i in range(n)] #a comprehension is recipe for generating a structure stored in memory\n",
        "n_squares"
      ]
    },
    {
      "cell_type": "code",
      "execution_count": null,
      "metadata": {
        "id": "Dvw83VbwtmlV"
      },
      "outputs": [],
      "source": [
        "n_squares_generator = ((i + 1) ** 2 for i in range(n)) #a generator is a recipe that gets called again for each sequential item\n",
        "print(next(n_squares_generator))\n",
        "print(next(n_squares_generator))\n",
        "print(next(n_squares_generator))"
      ]
    }
  ],
  "metadata": {
    "kernelspec": {
      "display_name": "Python 3",
      "language": "python",
      "name": "python3"
    },
    "language_info": {
      "codemirror_mode": {
        "name": "ipython",
        "version": 3
      },
      "file_extension": ".py",
      "mimetype": "text/x-python",
      "name": "python",
      "nbconvert_exporter": "python",
      "pygments_lexer": "ipython3",
      "version": "3.8.5"
    },
    "colab": {
      "name": "Python in 50 Lines of Code",
      "provenance": [],
      "collapsed_sections": [],
      "include_colab_link": true
    }
  },
  "nbformat": 4,
  "nbformat_minor": 0
}