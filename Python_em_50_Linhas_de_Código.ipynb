{
  "cells": [
    {
      "cell_type": "markdown",
      "metadata": {
        "id": "view-in-github",
        "colab_type": "text"
      },
      "source": [
        "<a href=\"https://colab.research.google.com/github/edanforth85/python_tutorials/blob/main/Python_em_50_Linhas_de_C%C3%B3digo.ipynb\" target=\"_parent\"><img src=\"https://colab.research.google.com/assets/colab-badge.svg\" alt=\"Open In Colab\"/></a>"
      ]
    },
    {
      "cell_type": "markdown",
      "metadata": {
        "id": "SXx0D-Mj5fCJ"
      },
      "source": [
        "# Python em 50 Linhas de Código 🐍👩🏾‍💻"
      ]
    },
    {
      "cell_type": "code",
      "execution_count": null,
      "metadata": {
        "id": "gj8eMalH5fCO"
      },
      "outputs": [],
      "source": [
        "#Clique nesta célula e clique em Run acima\n",
        "print(\"Deu certo!\") #Veja a mágica acontecer"
      ]
    },
    {
      "cell_type": "markdown",
      "metadata": {
        "id": "vE1X4_U95fCR"
      },
      "source": [
        "### Seja bem vindo ao python!"
      ]
    },
    {
      "cell_type": "code",
      "execution_count": null,
      "metadata": {
        "id": "86OWeca55fCS"
      },
      "outputs": [],
      "source": [
        "#Este é um comentário - ele não será executado em tempo de execução (ou seja, quando a mágica acontecer)\n",
        "1 + 2 #Você também pode colocá-los após o seu código (observe o uso de operadores matemáticos)"
      ]
    },
    {
      "cell_type": "code",
      "execution_count": null,
      "metadata": {
        "id": "Si36JoAa5fCT"
      },
      "outputs": [],
      "source": [
        "#Para um exemplo de espaço em branco, veja abaixo - isso também não será executado em tempo de execução\n",
        "\n",
        "#Sim, isso era espaço em branco."
      ]
    },
    {
      "cell_type": "markdown",
      "metadata": {
        "id": "oGlAxJ105fCT"
      },
      "source": [
        "### Print declaração"
      ]
    },
    {
      "cell_type": "code",
      "execution_count": null,
      "metadata": {
        "id": "NnWEKJQP5fCU"
      },
      "outputs": [],
      "source": [
        "#Compare a saída desta célula com a última saída\n",
        "8 - 2\n",
        "3 * 9"
      ]
    },
    {
      "cell_type": "code",
      "execution_count": null,
      "metadata": {
        "id": "vpIL29y15fCV"
      },
      "outputs": [],
      "source": [
        "#Ambas as linhas foram executadas, mas apenas o último resultado é retornado ao terminal\n",
        "print(\"O significado da vida:\") #Use uma declaração de print quando quiser devolver itens\n",
        "print(7 * 6) #Funciona com várias linhas"
      ]
    },
    {
      "cell_type": "markdown",
      "metadata": {
        "id": "3Eymjy8g5fCW"
      },
      "source": [
        "### Variáveis"
      ]
    },
    {
      "cell_type": "code",
      "execution_count": null,
      "metadata": {
        "id": "nzoiFoR75fCX"
      },
      "outputs": [],
      "source": [
        "a = 1 #variáveis armazenam todos os tipos de dados para recuperação\n",
        "\n",
        "#Não haverá nenhuma saída aqui (desta vez, execute com Shift + Enter)"
      ]
    },
    {
      "cell_type": "code",
      "execution_count": null,
      "metadata": {
        "id": "cQXBxUJ45fCY"
      },
      "outputs": [],
      "source": [
        "print(a) #Você pode usá-las mais tarde"
      ]
    },
    {
      "cell_type": "code",
      "execution_count": null,
      "metadata": {
        "id": "UEIDmhL75fCZ"
      },
      "outputs": [],
      "source": [
        "a = a + 1 #Modificá-las\n",
        "print(a) "
      ]
    },
    {
      "cell_type": "code",
      "execution_count": null,
      "metadata": {
        "id": "1c3rDIi95fCZ"
      },
      "outputs": [],
      "source": [
        "b = 3\n",
        "print(a * b) #E até usá-las com outras variáveis"
      ]
    },
    {
      "cell_type": "markdown",
      "metadata": {
        "id": "xw0FoPhL5fCa"
      },
      "source": [
        "### Tipos de objeto"
      ]
    },
    {
      "cell_type": "code",
      "execution_count": null,
      "metadata": {
        "id": "i4bGmyG75fCa"
      },
      "outputs": [],
      "source": [
        "print(type(a)) #Variáveis são objetos como tudo em python e possuem tipos (observe as funções aninhadas)"
      ]
    },
    {
      "cell_type": "code",
      "execution_count": null,
      "metadata": {
        "id": "BwET9Vj15fCb"
      },
      "outputs": [],
      "source": [
        "print(type(str(a))) #Alguns tipos podem ser convertidos em outros"
      ]
    },
    {
      "cell_type": "code",
      "execution_count": null,
      "metadata": {
        "id": "n__luIOQ5fCb"
      },
      "outputs": [],
      "source": [
        "c, d = 4, 10 #Você pode criar variáveis por meio de atribuição múltipla\n",
        "resultado = c < d #Além dos operadores matemáticos, você tem operadores de comparação\n",
        "print(resultado) #E lógica booleana (verdadeiro ou falso)"
      ]
    },
    {
      "cell_type": "markdown",
      "metadata": {
        "id": "JxnhlehZ5fCc"
      },
      "source": [
        "### Strings"
      ]
    },
    {
      "cell_type": "code",
      "execution_count": null,
      "metadata": {
        "id": "D3r0E9kf5fCc"
      },
      "outputs": [],
      "source": [
        "print(\"A variável a é igual \" + str(a) + \" e b é igual \" + str(b)) #sinal de mais como concatenação de strings\n",
        "print(\"Adicionando a + b...\") #sinal de adição como texto entre aspas\n",
        "print(f\"Resultado igual {str(a + b)}\") #f strings - uma maneira melhor de formatar (sinal de mais como operador matemático)"
      ]
    },
    {
      "cell_type": "markdown",
      "metadata": {
        "id": "O-q8VOW25fCd"
      },
      "source": [
        "### Entrada do usuário"
      ]
    },
    {
      "cell_type": "code",
      "execution_count": null,
      "metadata": {
        "id": "hoVePKBp5fCd"
      },
      "outputs": [],
      "source": [
        "seu_primeiro_nome = input() #Digite na caixa que aparece"
      ]
    },
    {
      "cell_type": "code",
      "execution_count": null,
      "metadata": {
        "id": "N8ZLqhQR5fCd"
      },
      "outputs": [],
      "source": [
        "print(f\"Sua primeira inicial é {seu_primeiro_nome[0]}\") #Fatiar a string recuperando o primeiro item (zero indexado)"
      ]
    },
    {
      "cell_type": "code",
      "execution_count": null,
      "metadata": {
        "id": "BBRuBWza5fCe"
      },
      "outputs": [],
      "source": [
        "print(f\"Há {len(seu_primeiro_nome)} letras em seu nome\")"
      ]
    },
    {
      "cell_type": "markdown",
      "metadata": {
        "id": "iGEfAsDj5fCe"
      },
      "source": [
        "### Funções"
      ]
    },
    {
      "cell_type": "code",
      "execution_count": null,
      "metadata": {
        "id": "fGqtIAsJ5fCf"
      },
      "outputs": [],
      "source": [
        "def funcao_simples(x, y): #funções armazenam ações específicas (passar argumentos é opcional)\n",
        "    return x - y #recue o código para ser executado dentro da função"
      ]
    },
    {
      "cell_type": "code",
      "execution_count": null,
      "metadata": {
        "id": "jChBbyc-5fCf"
      },
      "outputs": [],
      "source": [
        "print(funcao_simples(d, b)) #chame a função"
      ]
    },
    {
      "cell_type": "markdown",
      "metadata": {
        "id": "idycMWME5fCf"
      },
      "source": [
        "### Loops"
      ]
    },
    {
      "cell_type": "code",
      "execution_count": null,
      "metadata": {
        "id": "-1-UBCss5fCf"
      },
      "outputs": [],
      "source": [
        "contador = 0 #Você deve sempre começar em zero em python\n",
        "\n",
        "while contador < 3: #Este é um loop while\n",
        "    print(contador) #Lembre-se do que significa código recuado\n",
        "    if contador == 2: #If declaração (controle de fluxo)\n",
        "        print(\"Uau!\") #Dança! Vai!\n",
        "    contador += 1 #atribuição aumentada (em vez de contador = contador + 1)"
      ]
    },
    {
      "cell_type": "code",
      "execution_count": null,
      "metadata": {
        "id": "IM49AaZ_5fCg"
      },
      "outputs": [],
      "source": [
        "lista_de_comida = ['maçã', 'banana', 'laranja'] #Listas armazenam itens\n",
        "lista_de_comida.remove('laranja') #Você pode remover itens\n",
        "lista_de_comida.append('maracujá') #E adicione outros\n",
        "\n",
        "for i in range(3): #Este é um loop for (com o objeto range não precisamos de um contador)\n",
        "    print(f\"Gosto de comer {lista_de_comida[i]}\") #indexação de lista"
      ]
    },
    {
      "cell_type": "markdown",
      "metadata": {
        "id": "1MTMupIL5fCg"
      },
      "source": [
        "### Módulos"
      ]
    },
    {
      "cell_type": "code",
      "execution_count": null,
      "metadata": {
        "id": "E0MCCODJ5fCg"
      },
      "outputs": [],
      "source": [
        "#módulos empacotam classes que existem em outros arquivos python para importar conforme necessário\n",
        "#você geralmente os verá importados na parte superior do seu arquivo .py ou Jupyter Notebook\n",
        "\n",
        "import random #este é um dos módulos da biblioteca padrão do Python (você sempre tem instalado)\n",
        "\n",
        "for i in range(5):\n",
        "    print(random.randint(1, 10))"
      ]
    },
    {
      "cell_type": "markdown",
      "metadata": {
        "id": "qR6Lj-iI5fCh"
      },
      "source": [
        "### Juntando tudo!"
      ]
    },
    {
      "cell_type": "code",
      "execution_count": null,
      "metadata": {
        "id": "O8BOHonf5fCh"
      },
      "outputs": [],
      "source": [
        "cardapio_dict = {1:'feijão', 2:'salada', 3:'refri', 4:'sorvete'} #Dicionários armazenam pares de chave/valor\n",
        "itens = input(\"Insira números de 1 a 4 separados por um espaço \")"
      ]
    },
    {
      "cell_type": "code",
      "execution_count": null,
      "metadata": {
        "id": "NqezeWts5fCh"
      },
      "outputs": [],
      "source": [
        "meu_pedido = itens.split() #Cria uma lista a partir da string de números (armazenada como texto)\n",
        "meu_pedido #Tá vendo?"
      ]
    },
    {
      "cell_type": "code",
      "execution_count": null,
      "metadata": {
        "id": "BGLuBIfg5fCh"
      },
      "outputs": [],
      "source": [
        "meu_pedido.append(str(random.randint(1, 4))) #você acabou de se lembrar de adicionar um item aleatório para o seu gato\n",
        "meu_pedido #Aqui está novamente"
      ]
    },
    {
      "cell_type": "code",
      "execution_count": null,
      "metadata": {
        "id": "BHYX8uOC5fCh"
      },
      "outputs": [],
      "source": [
        "def pedir(pedido):\n",
        "    for comida in pedido:\n",
        "        print(f\"Queria {cardapio_dict[int(comida)]}\")"
      ]
    },
    {
      "cell_type": "code",
      "execution_count": null,
      "metadata": {
        "id": "alL6ktjS5fCi"
      },
      "outputs": [],
      "source": [
        "pedir(meu_pedido)"
      ]
    },
    {
      "cell_type": "markdown",
      "metadata": {
        "id": "u3SA56ry5fCi"
      },
      "source": [
        "# Crédito extra"
      ]
    },
    {
      "cell_type": "markdown",
      "metadata": {
        "id": "IxH5yBt35fCi"
      },
      "source": [
        "### Funções lambda"
      ]
    },
    {
      "cell_type": "code",
      "execution_count": null,
      "metadata": {
        "id": "sO__0iNo5fCj"
      },
      "outputs": [],
      "source": [
        "#Conversões de temperatura\n",
        "dublin_c = 15\n",
        "miami_f = 90\n",
        "\n",
        "def c_para_f_funcao(x): #aqui está a maneira tradicional de definir uma função novamente\n",
        "    return int(round((9 * x) / 5 + 32))\n",
        "\n",
        "c_para_f = lambda x: int(round((9 * x) / 5 + 32)) #aqui está exatamente a mesma coisa em uma função lambda\n",
        "f_para_c = lambda x: int(round((x - 32) * 5 / 9))\n",
        "\n",
        "print(f\"Faz {dublin_c}° celsius no Dublin, que seja {c_para_f(dublin_c)}° fahrenheit\")\n",
        "print(f\"Faz {miami_f}° fahrenheit no Miami, que seja {f_para_c(miami_f)}° celsius\")"
      ]
    },
    {
      "cell_type": "markdown",
      "metadata": {
        "id": "1VdHJEEn5fCj"
      },
      "source": [
        "### Classes"
      ]
    },
    {
      "cell_type": "code",
      "execution_count": null,
      "metadata": {
        "id": "Hbu2uNCp5fCj"
      },
      "outputs": [],
      "source": [
        "class Matematica: #As classes coletam grupos de funções\n",
        "    \n",
        "    adicionar = lambda x, y: x + y\n",
        "    subtrair = lambda x, y: x - y\n",
        "    multiplicar = lambda x, y: x * y\n",
        "    dividir = lambda x, y: x / y\n",
        "    módulo = lambda x, y: x // y\n",
        "    resto = lambda x, y: x % y\n",
        "    expoente = lambda x, y: x ** y"
      ]
    },
    {
      "cell_type": "code",
      "execution_count": null,
      "metadata": {
        "id": "TRVekvL85fCj"
      },
      "outputs": [],
      "source": [
        "e, f = 5, 2\n",
        "print(f\"{e} dividido por {f} é {Matematica.módulo(e, f)} resto {Matematica.resto(e, f)}\")"
      ]
    },
    {
      "cell_type": "markdown",
      "metadata": {
        "id": "tn-fUfC_5fCk"
      },
      "source": [
        "### Regex"
      ]
    },
    {
      "cell_type": "code",
      "execution_count": null,
      "metadata": {
        "id": "VqSUx16c5fCk"
      },
      "outputs": [],
      "source": [
        "import re #outro da biblioteca padrão - Expressões regulares ajudam você a combinar padrões\n",
        "\n",
        "re.sub('vai', 'vão', \"As razões que me impedem de estar com você vai além de te amar, vai além do querer\")"
      ]
    },
    {
      "cell_type": "markdown",
      "metadata": {
        "id": "xgRw9x6I5fCk"
      },
      "source": [
        "### Escopo local e global"
      ]
    },
    {
      "cell_type": "code",
      "execution_count": null,
      "metadata": {
        "id": "rs1F2nsO5fCk"
      },
      "outputs": [],
      "source": [
        "g = 11\n",
        "\n",
        "def mostrar_local_g():\n",
        "    g = 3\n",
        "    print(g)"
      ]
    },
    {
      "cell_type": "code",
      "execution_count": null,
      "metadata": {
        "id": "eK_9DovD5fCk"
      },
      "outputs": [],
      "source": [
        "mostrar_local_g()"
      ]
    },
    {
      "cell_type": "code",
      "execution_count": null,
      "metadata": {
        "id": "jahbWhnc5fCl"
      },
      "outputs": [],
      "source": [
        "print(g)"
      ]
    },
    {
      "cell_type": "code",
      "execution_count": null,
      "metadata": {
        "id": "qHgNVkcZ5fCl"
      },
      "outputs": [],
      "source": [
        "def modificar_global_g():\n",
        "    global g\n",
        "    g = 50\n",
        "    print(g)"
      ]
    },
    {
      "cell_type": "code",
      "execution_count": null,
      "metadata": {
        "id": "EkFPNwJS5fCl"
      },
      "outputs": [],
      "source": [
        "modificar_global_g()"
      ]
    },
    {
      "cell_type": "code",
      "execution_count": null,
      "metadata": {
        "id": "Jxo-iSP65fCl"
      },
      "outputs": [],
      "source": [
        "print(g)"
      ]
    },
    {
      "cell_type": "markdown",
      "metadata": {
        "id": "knsVJuFe5fCm"
      },
      "source": [
        "### Manipulação de exceção"
      ]
    },
    {
      "cell_type": "code",
      "execution_count": null,
      "metadata": {
        "id": "Cx80Yt2p5fCm"
      },
      "outputs": [],
      "source": [
        "def dividir_melhor(x, y):\n",
        "    try:\n",
        "        print(x / y)\n",
        "    except ZeroDivisionError as e:\n",
        "        print(f\"Erro: argumento inválido: {e}\")"
      ]
    },
    {
      "cell_type": "code",
      "execution_count": null,
      "metadata": {
        "id": "Tkgxw4q_5fCm"
      },
      "outputs": [],
      "source": [
        "dividir_melhor(27,9)"
      ]
    },
    {
      "cell_type": "code",
      "execution_count": null,
      "metadata": {
        "id": "_uhE-ZCc5fCn"
      },
      "outputs": [],
      "source": [
        "dividir_melhor(10,0)"
      ]
    },
    {
      "cell_type": "markdown",
      "metadata": {
        "id": "Kd1PgDST5fCn"
      },
      "source": [
        "### Compreensões e geradores"
      ]
    },
    {
      "cell_type": "code",
      "execution_count": null,
      "metadata": {
        "id": "nOb9u8ao5fCn"
      },
      "outputs": [],
      "source": [
        "#uma compreensão é receita para gerar uma estrutura armazenada na memória\n",
        "n = 10\n",
        "n_numeros_ao_quadrado = [(i + 1) ** 2 for i in range(n)] \n",
        "n_numeros_ao_quadrado"
      ]
    },
    {
      "cell_type": "code",
      "execution_count": null,
      "metadata": {
        "id": "U4li3E595fCn"
      },
      "outputs": [],
      "source": [
        "#um gerador é uma receita que é chamada novamente para cada item sequencial\n",
        "n_numeros_ao_quadrado_gerador = ((i + 1) ** 2 for i in range(n)) \n",
        "print(next(n_numeros_ao_quadrado_gerador))\n",
        "print(next(n_numeros_ao_quadrado_gerador))\n",
        "print(next(n_numeros_ao_quadrado_gerador))"
      ]
    }
  ],
  "metadata": {
    "kernelspec": {
      "display_name": "Python 3",
      "language": "python",
      "name": "python3"
    },
    "language_info": {
      "codemirror_mode": {
        "name": "ipython",
        "version": 3
      },
      "file_extension": ".py",
      "mimetype": "text/x-python",
      "name": "python",
      "nbconvert_exporter": "python",
      "pygments_lexer": "ipython3",
      "version": "3.8.8"
    },
    "colab": {
      "name": "Python em 50 Linhas de Código",
      "provenance": [],
      "collapsed_sections": [],
      "include_colab_link": true
    }
  },
  "nbformat": 4,
  "nbformat_minor": 0
}